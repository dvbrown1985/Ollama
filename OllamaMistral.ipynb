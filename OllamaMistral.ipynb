{
 "cells": [
  {
   "cell_type": "code",
   "execution_count": null,
   "id": "5815e3cb",
   "metadata": {
    "scrolled": true
   },
   "outputs": [],
   "source": [
    "import ollama # an open-source platform for running large language models locally, accessible via API. \n",
    "\n",
    "def get_response(user_input): # sends the user input to the Ollama API.s\n",
    "    stream = ollama.chat(\n",
    "        model='mistral',\n",
    "        messages=[{'role': 'user', 'content': user_input}],\n",
    "        stream=True\n",
    "    )\n",
    "    for chunk in stream:\n",
    "        print(chunk['message']['content'], end='', flush=True)\n",
    "\n",
    "        \n",
    "def main(): # welcomes the user and asks for a question. Generates a response, and then asks for more questions. Continues or exits based on a user's resopnse.\n",
    "    print(\n",
    "        \"Hi, I'm an AI generative chatbot using the Ollama Mistral model. Here's how I work:\\n\"\n",
    "        \"\\n\"\n",
    "        \"1. You will ask me a question, I'll answer it.\\n\"\n",
    "        \"2. Then, I will ask you if you have another question.\\n\"\n",
    "        \"\\n\"\n",
    "        \"    a. If you respond **yes**, we will restart the loop, and you ask another question.\\n\"\n",
    "        \"\\n\"\n",
    "        \"    b. If you respond **no**, the loop breaks, and the conversation ends.\")\n",
    "\n",
    "    user_prompt = input(\"Let's get started!\" # this variable is designed to store the user's prompt which is sent to the LLM model. \n",
    "    \"\\n\"\n",
    "    \"\\nHow can I help you?  \")\n",
    "    get_response(user_prompt) # passes the user's prompt to the get_response function so the prompt can be sent to the Ollama API. \n",
    "\n",
    "    while True:\n",
    "        user_prompt2 = input(\"\\n\\nDo you have another question (yes or no)? \").strip().lower() # stripts user input of whitespace and converts to lowercase.  \n",
    "        \n",
    "        if user_prompt2 == \"yes\":\n",
    "            user_prompt = input(\"\\nWhat's up? \")\n",
    "            get_response(user_prompt) # passes user prompt to the get_response function so the prompt can be sent to the Ollama API. \n",
    "        elif user_prompt2 == \"no\":\n",
    "            print(\"\\nThat was fun! Thanks for chatting. Have a great day :) \")\n",
    "            break\n",
    "        else:\n",
    "            print(\"Please respond with 'yes' or 'no'.\") # when the user's prompt equals anything but 'yes' or 'no'.\n",
    "\n",
    "if __name__ == \"__main__\": # executes code only when script is run directly, not imported.\n",
    "    main()"
   ]
  }
 ],
 "metadata": {
  "kernelspec": {
   "display_name": "Python 3 (ipykernel)",
   "language": "python",
   "name": "python3"
  },
  "language_info": {
   "codemirror_mode": {
    "name": "ipython",
    "version": 3
   },
   "file_extension": ".py",
   "mimetype": "text/x-python",
   "name": "python",
   "nbconvert_exporter": "python",
   "pygments_lexer": "ipython3",
   "version": "3.11.7"
  }
 },
 "nbformat": 4,
 "nbformat_minor": 5
}
